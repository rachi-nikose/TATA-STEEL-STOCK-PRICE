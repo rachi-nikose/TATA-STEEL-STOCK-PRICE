{
 "cells": [
  {
   "cell_type": "code",
   "execution_count": 54,
   "id": "7cf67087",
   "metadata": {},
   "outputs": [],
   "source": [
    "# Import all the Dependencies\n",
    "import numpy as np\n",
    "import pandas as pd\n",
    "import matplotlib.pyplot as plt\n",
    "import seaborn as sns\n",
    "%matplotlib inline\n",
    "plt.style.use('fivethirtyeight')\n",
    "\n",
    "# Model Selection\n",
    "from sklearn.model_selection import train_test_split\n",
    "\n",
    "#Models\n",
    "from sklearn.ensemble import AdaBoostRegressor\n",
    "from sklearn.ensemble import GradientBoostingRegressor\n",
    "\n",
    "# Model Evaluation\n",
    "from sklearn.metrics import mean_absolute_error,mean_absolute_percentage_error\n",
    "\n",
    "import warnings\n",
    "warnings.filterwarnings('ignore')"
   ]
  },
  {
   "cell_type": "code",
   "execution_count": 2,
   "id": "e9ec5a54",
   "metadata": {},
   "outputs": [],
   "source": [
    "df=pd.read_csv('TATASTEEL.NS (1).csv')"
   ]
  },
  {
   "cell_type": "code",
   "execution_count": 3,
   "id": "12ffa14d",
   "metadata": {},
   "outputs": [
    {
     "data": {
      "text/html": [
       "<div>\n",
       "<style scoped>\n",
       "    .dataframe tbody tr th:only-of-type {\n",
       "        vertical-align: middle;\n",
       "    }\n",
       "\n",
       "    .dataframe tbody tr th {\n",
       "        vertical-align: top;\n",
       "    }\n",
       "\n",
       "    .dataframe thead th {\n",
       "        text-align: right;\n",
       "    }\n",
       "</style>\n",
       "<table border=\"1\" class=\"dataframe\">\n",
       "  <thead>\n",
       "    <tr style=\"text-align: right;\">\n",
       "      <th></th>\n",
       "      <th>Date</th>\n",
       "      <th>Open</th>\n",
       "      <th>High</th>\n",
       "      <th>Low</th>\n",
       "      <th>Close</th>\n",
       "      <th>Adj Close</th>\n",
       "      <th>Volume</th>\n",
       "    </tr>\n",
       "  </thead>\n",
       "  <tbody>\n",
       "    <tr>\n",
       "      <th>0</th>\n",
       "      <td>1996-01-01</td>\n",
       "      <td>11.172855</td>\n",
       "      <td>11.214964</td>\n",
       "      <td>11.035300</td>\n",
       "      <td>11.186892</td>\n",
       "      <td>2.568285</td>\n",
       "      <td>10242229.0</td>\n",
       "    </tr>\n",
       "    <tr>\n",
       "      <th>1</th>\n",
       "      <td>1996-01-02</td>\n",
       "      <td>11.172855</td>\n",
       "      <td>11.214964</td>\n",
       "      <td>10.951082</td>\n",
       "      <td>10.979155</td>\n",
       "      <td>2.520592</td>\n",
       "      <td>16954313.0</td>\n",
       "    </tr>\n",
       "    <tr>\n",
       "      <th>2</th>\n",
       "      <td>1996-01-03</td>\n",
       "      <td>10.979155</td>\n",
       "      <td>11.229000</td>\n",
       "      <td>10.951082</td>\n",
       "      <td>10.981962</td>\n",
       "      <td>2.521237</td>\n",
       "      <td>13514114.0</td>\n",
       "    </tr>\n",
       "    <tr>\n",
       "      <th>3</th>\n",
       "      <td>1996-01-04</td>\n",
       "      <td>10.807913</td>\n",
       "      <td>10.807913</td>\n",
       "      <td>10.386825</td>\n",
       "      <td>10.633863</td>\n",
       "      <td>2.441320</td>\n",
       "      <td>34785820.0</td>\n",
       "    </tr>\n",
       "    <tr>\n",
       "      <th>4</th>\n",
       "      <td>1996-01-05</td>\n",
       "      <td>10.504730</td>\n",
       "      <td>10.555260</td>\n",
       "      <td>10.316644</td>\n",
       "      <td>10.423319</td>\n",
       "      <td>2.392984</td>\n",
       "      <td>30138033.0</td>\n",
       "    </tr>\n",
       "  </tbody>\n",
       "</table>\n",
       "</div>"
      ],
      "text/plain": [
       "         Date       Open       High        Low      Close  Adj Close  \\\n",
       "0  1996-01-01  11.172855  11.214964  11.035300  11.186892   2.568285   \n",
       "1  1996-01-02  11.172855  11.214964  10.951082  10.979155   2.520592   \n",
       "2  1996-01-03  10.979155  11.229000  10.951082  10.981962   2.521237   \n",
       "3  1996-01-04  10.807913  10.807913  10.386825  10.633863   2.441320   \n",
       "4  1996-01-05  10.504730  10.555260  10.316644  10.423319   2.392984   \n",
       "\n",
       "       Volume  \n",
       "0  10242229.0  \n",
       "1  16954313.0  \n",
       "2  13514114.0  \n",
       "3  34785820.0  \n",
       "4  30138033.0  "
      ]
     },
     "execution_count": 3,
     "metadata": {},
     "output_type": "execute_result"
    }
   ],
   "source": [
    "df.head()"
   ]
  },
  {
   "cell_type": "markdown",
   "id": "f7f8ca5b",
   "metadata": {},
   "source": [
    "# Data Exploration"
   ]
  },
  {
   "cell_type": "markdown",
   "id": "09620675",
   "metadata": {},
   "source": [
    "# Summarize the Data"
   ]
  },
  {
   "cell_type": "code",
   "execution_count": 4,
   "id": "4a7f8560",
   "metadata": {},
   "outputs": [
    {
     "name": "stdout",
     "output_type": "stream",
     "text": [
      "<class 'pandas.core.frame.DataFrame'>\n",
      "RangeIndex: 6871 entries, 0 to 6870\n",
      "Data columns (total 7 columns):\n",
      " #   Column     Non-Null Count  Dtype  \n",
      "---  ------     --------------  -----  \n",
      " 0   Date       6871 non-null   object \n",
      " 1   Open       6864 non-null   float64\n",
      " 2   High       6864 non-null   float64\n",
      " 3   Low        6864 non-null   float64\n",
      " 4   Close      6864 non-null   float64\n",
      " 5   Adj Close  6864 non-null   float64\n",
      " 6   Volume     6864 non-null   float64\n",
      "dtypes: float64(6), object(1)\n",
      "memory usage: 375.9+ KB\n"
     ]
    }
   ],
   "source": [
    "df.info()"
   ]
  },
  {
   "cell_type": "markdown",
   "id": "0eb55c7c",
   "metadata": {},
   "source": [
    "# Descriptive Summary of Data"
   ]
  },
  {
   "cell_type": "code",
   "execution_count": 5,
   "id": "a48554c6",
   "metadata": {},
   "outputs": [
    {
     "data": {
      "text/html": [
       "<div>\n",
       "<style scoped>\n",
       "    .dataframe tbody tr th:only-of-type {\n",
       "        vertical-align: middle;\n",
       "    }\n",
       "\n",
       "    .dataframe tbody tr th {\n",
       "        vertical-align: top;\n",
       "    }\n",
       "\n",
       "    .dataframe thead th {\n",
       "        text-align: right;\n",
       "    }\n",
       "</style>\n",
       "<table border=\"1\" class=\"dataframe\">\n",
       "  <thead>\n",
       "    <tr style=\"text-align: right;\">\n",
       "      <th></th>\n",
       "      <th>Open</th>\n",
       "      <th>High</th>\n",
       "      <th>Low</th>\n",
       "      <th>Close</th>\n",
       "      <th>Adj Close</th>\n",
       "      <th>Volume</th>\n",
       "    </tr>\n",
       "  </thead>\n",
       "  <tbody>\n",
       "    <tr>\n",
       "      <th>count</th>\n",
       "      <td>6864.000000</td>\n",
       "      <td>6864.000000</td>\n",
       "      <td>6864.000000</td>\n",
       "      <td>6864.000000</td>\n",
       "      <td>6864.000000</td>\n",
       "      <td>6.864000e+03</td>\n",
       "    </tr>\n",
       "    <tr>\n",
       "      <th>mean</th>\n",
       "      <td>37.789490</td>\n",
       "      <td>38.398499</td>\n",
       "      <td>37.098333</td>\n",
       "      <td>37.718267</td>\n",
       "      <td>15.757361</td>\n",
       "      <td>6.982651e+07</td>\n",
       "    </tr>\n",
       "    <tr>\n",
       "      <th>std</th>\n",
       "      <td>29.604842</td>\n",
       "      <td>30.016965</td>\n",
       "      <td>29.104956</td>\n",
       "      <td>29.542239</td>\n",
       "      <td>19.703162</td>\n",
       "      <td>5.831510e+07</td>\n",
       "    </tr>\n",
       "    <tr>\n",
       "      <th>min</th>\n",
       "      <td>3.705570</td>\n",
       "      <td>3.910499</td>\n",
       "      <td>3.705570</td>\n",
       "      <td>3.775751</td>\n",
       "      <td>0.902283</td>\n",
       "      <td>0.000000e+00</td>\n",
       "    </tr>\n",
       "    <tr>\n",
       "      <th>25%</th>\n",
       "      <td>10.554558</td>\n",
       "      <td>10.702640</td>\n",
       "      <td>10.366472</td>\n",
       "      <td>10.504730</td>\n",
       "      <td>2.432781</td>\n",
       "      <td>3.292896e+07</td>\n",
       "    </tr>\n",
       "    <tr>\n",
       "      <th>50%</th>\n",
       "      <td>34.616764</td>\n",
       "      <td>35.114075</td>\n",
       "      <td>33.954185</td>\n",
       "      <td>34.530851</td>\n",
       "      <td>12.302627</td>\n",
       "      <td>5.383640e+07</td>\n",
       "    </tr>\n",
       "    <tr>\n",
       "      <th>75%</th>\n",
       "      <td>50.849415</td>\n",
       "      <td>51.657379</td>\n",
       "      <td>50.037729</td>\n",
       "      <td>50.813896</td>\n",
       "      <td>18.808940</td>\n",
       "      <td>8.758241e+07</td>\n",
       "    </tr>\n",
       "    <tr>\n",
       "      <th>max</th>\n",
       "      <td>161.486557</td>\n",
       "      <td>161.486557</td>\n",
       "      <td>161.486557</td>\n",
       "      <td>161.486557</td>\n",
       "      <td>123.550003</td>\n",
       "      <td>6.428460e+08</td>\n",
       "    </tr>\n",
       "  </tbody>\n",
       "</table>\n",
       "</div>"
      ],
      "text/plain": [
       "              Open         High          Low        Close    Adj Close  \\\n",
       "count  6864.000000  6864.000000  6864.000000  6864.000000  6864.000000   \n",
       "mean     37.789490    38.398499    37.098333    37.718267    15.757361   \n",
       "std      29.604842    30.016965    29.104956    29.542239    19.703162   \n",
       "min       3.705570     3.910499     3.705570     3.775751     0.902283   \n",
       "25%      10.554558    10.702640    10.366472    10.504730     2.432781   \n",
       "50%      34.616764    35.114075    33.954185    34.530851    12.302627   \n",
       "75%      50.849415    51.657379    50.037729    50.813896    18.808940   \n",
       "max     161.486557   161.486557   161.486557   161.486557   123.550003   \n",
       "\n",
       "             Volume  \n",
       "count  6.864000e+03  \n",
       "mean   6.982651e+07  \n",
       "std    5.831510e+07  \n",
       "min    0.000000e+00  \n",
       "25%    3.292896e+07  \n",
       "50%    5.383640e+07  \n",
       "75%    8.758241e+07  \n",
       "max    6.428460e+08  "
      ]
     },
     "execution_count": 5,
     "metadata": {},
     "output_type": "execute_result"
    }
   ],
   "source": [
    "df.describe()"
   ]
  },
  {
   "cell_type": "markdown",
   "id": "90dc7cb9",
   "metadata": {},
   "source": [
    "# Check if there were any null values"
   ]
  },
  {
   "cell_type": "code",
   "execution_count": 6,
   "id": "57ec2afa",
   "metadata": {},
   "outputs": [
    {
     "data": {
      "text/plain": [
       "Date         0\n",
       "Open         7\n",
       "High         7\n",
       "Low          7\n",
       "Close        7\n",
       "Adj Close    7\n",
       "Volume       7\n",
       "dtype: int64"
      ]
     },
     "execution_count": 6,
     "metadata": {},
     "output_type": "execute_result"
    }
   ],
   "source": [
    "df.isnull().sum()"
   ]
  },
  {
   "cell_type": "code",
   "execution_count": 7,
   "id": "d4765139",
   "metadata": {},
   "outputs": [],
   "source": [
    "df.dropna(inplace=True)"
   ]
  },
  {
   "cell_type": "code",
   "execution_count": 8,
   "id": "6d08e5c1",
   "metadata": {},
   "outputs": [
    {
     "data": {
      "text/plain": [
       "Date         0\n",
       "Open         0\n",
       "High         0\n",
       "Low          0\n",
       "Close        0\n",
       "Adj Close    0\n",
       "Volume       0\n",
       "dtype: int64"
      ]
     },
     "execution_count": 8,
     "metadata": {},
     "output_type": "execute_result"
    }
   ],
   "source": [
    "df.isnull().sum()"
   ]
  },
  {
   "cell_type": "markdown",
   "id": "ccc11748",
   "metadata": {},
   "source": [
    "# Check if there were any duplicate values"
   ]
  },
  {
   "cell_type": "code",
   "execution_count": 9,
   "id": "e0b557ea",
   "metadata": {},
   "outputs": [
    {
     "data": {
      "text/plain": [
       "0"
      ]
     },
     "execution_count": 9,
     "metadata": {},
     "output_type": "execute_result"
    }
   ],
   "source": [
    "df.duplicated().sum()"
   ]
  },
  {
   "cell_type": "markdown",
   "id": "5dc9cc49",
   "metadata": {},
   "source": [
    "there is no duplicate values present in dataset"
   ]
  },
  {
   "cell_type": "markdown",
   "id": "d3341505",
   "metadata": {},
   "source": [
    "# Feature Engineering "
   ]
  },
  {
   "cell_type": "code",
   "execution_count": 10,
   "id": "5cb8ccc2",
   "metadata": {},
   "outputs": [
    {
     "data": {
      "text/html": [
       "<div>\n",
       "<style scoped>\n",
       "    .dataframe tbody tr th:only-of-type {\n",
       "        vertical-align: middle;\n",
       "    }\n",
       "\n",
       "    .dataframe tbody tr th {\n",
       "        vertical-align: top;\n",
       "    }\n",
       "\n",
       "    .dataframe thead th {\n",
       "        text-align: right;\n",
       "    }\n",
       "</style>\n",
       "<table border=\"1\" class=\"dataframe\">\n",
       "  <thead>\n",
       "    <tr style=\"text-align: right;\">\n",
       "      <th></th>\n",
       "      <th>Date</th>\n",
       "      <th>Open</th>\n",
       "      <th>High</th>\n",
       "      <th>Low</th>\n",
       "      <th>Close</th>\n",
       "      <th>Adj Close</th>\n",
       "      <th>Volume</th>\n",
       "    </tr>\n",
       "  </thead>\n",
       "  <tbody>\n",
       "    <tr>\n",
       "      <th>0</th>\n",
       "      <td>1996-01-01</td>\n",
       "      <td>11.172855</td>\n",
       "      <td>11.214964</td>\n",
       "      <td>11.035300</td>\n",
       "      <td>11.186892</td>\n",
       "      <td>2.568285</td>\n",
       "      <td>10242229.0</td>\n",
       "    </tr>\n",
       "    <tr>\n",
       "      <th>1</th>\n",
       "      <td>1996-01-02</td>\n",
       "      <td>11.172855</td>\n",
       "      <td>11.214964</td>\n",
       "      <td>10.951082</td>\n",
       "      <td>10.979155</td>\n",
       "      <td>2.520592</td>\n",
       "      <td>16954313.0</td>\n",
       "    </tr>\n",
       "    <tr>\n",
       "      <th>2</th>\n",
       "      <td>1996-01-03</td>\n",
       "      <td>10.979155</td>\n",
       "      <td>11.229000</td>\n",
       "      <td>10.951082</td>\n",
       "      <td>10.981962</td>\n",
       "      <td>2.521237</td>\n",
       "      <td>13514114.0</td>\n",
       "    </tr>\n",
       "    <tr>\n",
       "      <th>3</th>\n",
       "      <td>1996-01-04</td>\n",
       "      <td>10.807913</td>\n",
       "      <td>10.807913</td>\n",
       "      <td>10.386825</td>\n",
       "      <td>10.633863</td>\n",
       "      <td>2.441320</td>\n",
       "      <td>34785820.0</td>\n",
       "    </tr>\n",
       "    <tr>\n",
       "      <th>4</th>\n",
       "      <td>1996-01-05</td>\n",
       "      <td>10.504730</td>\n",
       "      <td>10.555260</td>\n",
       "      <td>10.316644</td>\n",
       "      <td>10.423319</td>\n",
       "      <td>2.392984</td>\n",
       "      <td>30138033.0</td>\n",
       "    </tr>\n",
       "  </tbody>\n",
       "</table>\n",
       "</div>"
      ],
      "text/plain": [
       "         Date       Open       High        Low      Close  Adj Close  \\\n",
       "0  1996-01-01  11.172855  11.214964  11.035300  11.186892   2.568285   \n",
       "1  1996-01-02  11.172855  11.214964  10.951082  10.979155   2.520592   \n",
       "2  1996-01-03  10.979155  11.229000  10.951082  10.981962   2.521237   \n",
       "3  1996-01-04  10.807913  10.807913  10.386825  10.633863   2.441320   \n",
       "4  1996-01-05  10.504730  10.555260  10.316644  10.423319   2.392984   \n",
       "\n",
       "       Volume  \n",
       "0  10242229.0  \n",
       "1  16954313.0  \n",
       "2  13514114.0  \n",
       "3  34785820.0  \n",
       "4  30138033.0  "
      ]
     },
     "execution_count": 10,
     "metadata": {},
     "output_type": "execute_result"
    }
   ],
   "source": [
    "df.head()"
   ]
  },
  {
   "cell_type": "markdown",
   "id": "e335ac2a",
   "metadata": {},
   "source": [
    "# Split Date into Year, Month and Date"
   ]
  },
  {
   "cell_type": "code",
   "execution_count": 11,
   "id": "edd0e92f",
   "metadata": {},
   "outputs": [],
   "source": [
    "df[\"Year\"]=df[\"Date\"].str[0:4]"
   ]
  },
  {
   "cell_type": "code",
   "execution_count": 12,
   "id": "76ca9226",
   "metadata": {},
   "outputs": [],
   "source": [
    "df[\"date\"]=df[\"Date\"].str[8:10]"
   ]
  },
  {
   "cell_type": "code",
   "execution_count": 13,
   "id": "6572c55e",
   "metadata": {},
   "outputs": [],
   "source": [
    "df[\"month_num\"]=df[\"Date\"].str[5:7]"
   ]
  },
  {
   "cell_type": "code",
   "execution_count": 14,
   "id": "414d2537",
   "metadata": {},
   "outputs": [],
   "source": [
    "def month_name(num):\n",
    "    if num == \"01\":\n",
    "        return \"January\"\n",
    "    elif num == \"02\":\n",
    "        return \"February\"\n",
    "    elif num == \"03\":\n",
    "        return \"March\"\n",
    "    elif num == \"04\":\n",
    "        return \"April\"\n",
    "    elif num == \"05\":\n",
    "        return \"May\"\n",
    "    elif num == \"06\":\n",
    "        return \"June\"\n",
    "    elif num == \"07\":\n",
    "        return \"July\"\n",
    "    elif num == \"08\":\n",
    "        return \"August\"\n",
    "    elif num == \"09\":\n",
    "        return \"September\"\n",
    "    elif num == \"10\":\n",
    "        return \"October\"\n",
    "    elif num == \"11\":\n",
    "        return \"November\"\n",
    "    elif num == \"12\":\n",
    "        return \"December\"\n",
    "    else:\n",
    "        return \"Invalid Month\""
   ]
  },
  {
   "cell_type": "code",
   "execution_count": 15,
   "id": "cc7f0199",
   "metadata": {},
   "outputs": [],
   "source": [
    "df[\"month_name\"]=df[\"Date\"].str[5:7].apply(month_name)"
   ]
  },
  {
   "cell_type": "code",
   "execution_count": 16,
   "id": "6586bd45",
   "metadata": {},
   "outputs": [],
   "source": [
    "df[\"Year\"]=df[\"Year\"].astype(int)\n",
    "df[\"date\"]=df[\"date\"].astype(int)\n",
    "df[\"month_num\"]=df[\"month_num\"].astype(int)"
   ]
  },
  {
   "cell_type": "code",
   "execution_count": 17,
   "id": "89d8bed6",
   "metadata": {},
   "outputs": [],
   "source": [
    "df['Date'] = pd.to_datetime(df['Date'])"
   ]
  },
  {
   "cell_type": "markdown",
   "id": "e2acbcb3",
   "metadata": {},
   "source": [
    "# EDA"
   ]
  },
  {
   "cell_type": "markdown",
   "id": "7f7c8a8c",
   "metadata": {},
   "source": [
    "# Opening Vs Closing"
   ]
  },
  {
   "cell_type": "code",
   "execution_count": 19,
   "id": "f350fdf3",
   "metadata": {},
   "outputs": [
    {
     "data": {
      "text/plain": [
       "<matplotlib.legend.Legend at 0x1d5e385cdc0>"
      ]
     },
     "execution_count": 19,
     "metadata": {},
     "output_type": "execute_result"
    },
    {
     "data": {
      "image/png": "[encoded data removed]",
      "text/plain": [
       "<Figure size 720x432 with 1 Axes>"
      ]
     },
     "metadata": {},
     "output_type": "display_data"
    }
   ],
   "source": [
    "plt.figure(figsize=(10,6))\n",
    "sns.lineplot(x=df[\"Date\"],y=df[\"Open\"], label=\"Open\")\n",
    "sns.lineplot(x=df[\"Date\"],y=df[\"Close\"], label=\"Close\")\n",
    "plt.ylabel(\"Prices\")\n",
    "plt.title(\"Open vs Close Comparision\")\n",
    "plt.legend()\n"
   ]
  },
  {
   "cell_type": "markdown",
   "id": "d52f51e8",
   "metadata": {},
   "source": [
    "# Observations:"
   ]
  },
  {
   "cell_type": "markdown",
   "id": "2da33b63",
   "metadata": {},
   "source": [
    "Opening prices were mostly higher than closing"
   ]
  },
  {
   "cell_type": "markdown",
   "id": "c2c87461",
   "metadata": {},
   "source": [
    "# Prices by Date"
   ]
  },
  {
   "cell_type": "code",
   "execution_count": 21,
   "id": "52ea8ea1",
   "metadata": {},
   "outputs": [],
   "source": [
    "sorted_df=df.sort_values(by=\"date\")"
   ]
  },
  {
   "cell_type": "code",
   "execution_count": 22,
   "id": "26fba1f8",
   "metadata": {},
   "outputs": [
    {
     "data": {
      "text/html": [
       "<div>\n",
       "<style scoped>\n",
       "    .dataframe tbody tr th:only-of-type {\n",
       "        vertical-align: middle;\n",
       "    }\n",
       "\n",
       "    .dataframe tbody tr th {\n",
       "        vertical-align: top;\n",
       "    }\n",
       "\n",
       "    .dataframe thead th {\n",
       "        text-align: right;\n",
       "    }\n",
       "</style>\n",
       "<table border=\"1\" class=\"dataframe\">\n",
       "  <thead>\n",
       "    <tr style=\"text-align: right;\">\n",
       "      <th></th>\n",
       "      <th>Date</th>\n",
       "      <th>Open</th>\n",
       "      <th>High</th>\n",
       "      <th>Low</th>\n",
       "      <th>Close</th>\n",
       "      <th>Adj Close</th>\n",
       "      <th>Volume</th>\n",
       "      <th>Year</th>\n",
       "      <th>date</th>\n",
       "      <th>month_num</th>\n",
       "      <th>month_name</th>\n",
       "    </tr>\n",
       "  </thead>\n",
       "  <tbody>\n",
       "    <tr>\n",
       "      <th>0</th>\n",
       "      <td>1996-01-01</td>\n",
       "      <td>11.172855</td>\n",
       "      <td>11.214964</td>\n",
       "      <td>11.035300</td>\n",
       "      <td>11.186892</td>\n",
       "      <td>2.568285</td>\n",
       "      <td>10242229.0</td>\n",
       "      <td>1996</td>\n",
       "      <td>1</td>\n",
       "      <td>1</td>\n",
       "      <td>January</td>\n",
       "    </tr>\n",
       "    <tr>\n",
       "      <th>4702</th>\n",
       "      <td>2014-07-01</td>\n",
       "      <td>50.495041</td>\n",
       "      <td>51.952728</td>\n",
       "      <td>50.495041</td>\n",
       "      <td>51.509705</td>\n",
       "      <td>19.121082</td>\n",
       "      <td>55762230.0</td>\n",
       "      <td>2014</td>\n",
       "      <td>1</td>\n",
       "      <td>7</td>\n",
       "      <td>July</td>\n",
       "    </tr>\n",
       "    <tr>\n",
       "      <th>761</th>\n",
       "      <td>1998-12-01</td>\n",
       "      <td>4.803205</td>\n",
       "      <td>5.131653</td>\n",
       "      <td>4.794783</td>\n",
       "      <td>5.081122</td>\n",
       "      <td>1.166523</td>\n",
       "      <td>61206692.0</td>\n",
       "      <td>1998</td>\n",
       "      <td>1</td>\n",
       "      <td>12</td>\n",
       "      <td>December</td>\n",
       "    </tr>\n",
       "    <tr>\n",
       "      <th>2948</th>\n",
       "      <td>2007-06-01</td>\n",
       "      <td>47.279709</td>\n",
       "      <td>48.072193</td>\n",
       "      <td>47.096954</td>\n",
       "      <td>47.279709</td>\n",
       "      <td>14.531234</td>\n",
       "      <td>17940414.0</td>\n",
       "      <td>2007</td>\n",
       "      <td>1</td>\n",
       "      <td>6</td>\n",
       "      <td>June</td>\n",
       "    </tr>\n",
       "    <tr>\n",
       "      <th>6324</th>\n",
       "      <td>2021-02-01</td>\n",
       "      <td>60.490002</td>\n",
       "      <td>64.000000</td>\n",
       "      <td>59.744999</td>\n",
       "      <td>63.610001</td>\n",
       "      <td>27.656687</td>\n",
       "      <td>210846940.0</td>\n",
       "      <td>2021</td>\n",
       "      <td>1</td>\n",
       "      <td>2</td>\n",
       "      <td>February</td>\n",
       "    </tr>\n",
       "    <tr>\n",
       "      <th>...</th>\n",
       "      <td>...</td>\n",
       "      <td>...</td>\n",
       "      <td>...</td>\n",
       "      <td>...</td>\n",
       "      <td>...</td>\n",
       "      <td>...</td>\n",
       "      <td>...</td>\n",
       "      <td>...</td>\n",
       "      <td>...</td>\n",
       "      <td>...</td>\n",
       "      <td>...</td>\n",
       "    </tr>\n",
       "    <tr>\n",
       "      <th>4476</th>\n",
       "      <td>2013-07-31</td>\n",
       "      <td>19.826448</td>\n",
       "      <td>20.741076</td>\n",
       "      <td>19.278625</td>\n",
       "      <td>20.550529</td>\n",
       "      <td>7.628629</td>\n",
       "      <td>65774010.0</td>\n",
       "      <td>2013</td>\n",
       "      <td>31</td>\n",
       "      <td>7</td>\n",
       "      <td>July</td>\n",
       "    </tr>\n",
       "    <tr>\n",
       "      <th>4640</th>\n",
       "      <td>2014-03-31</td>\n",
       "      <td>36.647015</td>\n",
       "      <td>37.761715</td>\n",
       "      <td>36.489815</td>\n",
       "      <td>37.533058</td>\n",
       "      <td>13.932767</td>\n",
       "      <td>73888761.0</td>\n",
       "      <td>2014</td>\n",
       "      <td>31</td>\n",
       "      <td>3</td>\n",
       "      <td>March</td>\n",
       "    </tr>\n",
       "    <tr>\n",
       "      <th>6551</th>\n",
       "      <td>2021-12-31</td>\n",
       "      <td>110.500000</td>\n",
       "      <td>112.349998</td>\n",
       "      <td>110.264999</td>\n",
       "      <td>111.144997</td>\n",
       "      <td>49.405617</td>\n",
       "      <td>36870210.0</td>\n",
       "      <td>2021</td>\n",
       "      <td>31</td>\n",
       "      <td>12</td>\n",
       "      <td>December</td>\n",
       "    </tr>\n",
       "    <tr>\n",
       "      <th>5170</th>\n",
       "      <td>2016-05-31</td>\n",
       "      <td>30.916304</td>\n",
       "      <td>32.154861</td>\n",
       "      <td>30.511391</td>\n",
       "      <td>31.854750</td>\n",
       "      <td>12.419637</td>\n",
       "      <td>105401750.0</td>\n",
       "      <td>2016</td>\n",
       "      <td>31</td>\n",
       "      <td>5</td>\n",
       "      <td>May</td>\n",
       "    </tr>\n",
       "    <tr>\n",
       "      <th>1044</th>\n",
       "      <td>1999-12-31</td>\n",
       "      <td>7.992241</td>\n",
       "      <td>7.992241</td>\n",
       "      <td>7.992241</td>\n",
       "      <td>7.992241</td>\n",
       "      <td>1.906113</td>\n",
       "      <td>0.0</td>\n",
       "      <td>1999</td>\n",
       "      <td>31</td>\n",
       "      <td>12</td>\n",
       "      <td>December</td>\n",
       "    </tr>\n",
       "  </tbody>\n",
       "</table>\n",
       "<p>6864 rows × 11 columns</p>\n",
       "</div>"
      ],
      "text/plain": [
       "           Date        Open        High         Low       Close  Adj Close  \\\n",
       "0    1996-01-01   11.172855   11.214964   11.035300   11.186892   2.568285   \n",
       "4702 2014-07-01   50.495041   51.952728   50.495041   51.509705  19.121082   \n",
       "761  1998-12-01    4.803205    5.131653    4.794783    5.081122   1.166523   \n",
       "2948 2007-06-01   47.279709   48.072193   47.096954   47.279709  14.531234   \n",
       "6324 2021-02-01   60.490002   64.000000   59.744999   63.610001  27.656687   \n",
       "...         ...         ...         ...         ...         ...        ...   \n",
       "4476 2013-07-31   19.826448   20.741076   19.278625   20.550529   7.628629   \n",
       "4640 2014-03-31   36.647015   37.761715   36.489815   37.533058  13.932767   \n",
       "6551 2021-12-31  110.500000  112.349998  110.264999  111.144997  49.405617   \n",
       "5170 2016-05-31   30.916304   32.154861   30.511391   31.854750  12.419637   \n",
       "1044 1999-12-31    7.992241    7.992241    7.992241    7.992241   1.906113   \n",
       "\n",
       "           Volume  Year  date  month_num month_name  \n",
       "0      10242229.0  1996     1          1    January  \n",
       "4702   55762230.0  2014     1          7       July  \n",
       "761    61206692.0  1998     1         12   December  \n",
       "2948   17940414.0  2007     1          6       June  \n",
       "6324  210846940.0  2021     1          2   February  \n",
       "...           ...   ...   ...        ...        ...  \n",
       "4476   65774010.0  2013    31          7       July  \n",
       "4640   73888761.0  2014    31          3      March  \n",
       "6551   36870210.0  2021    31         12   December  \n",
       "5170  105401750.0  2016    31          5        May  \n",
       "1044          0.0  1999    31         12   December  \n",
       "\n",
       "[6864 rows x 11 columns]"
      ]
     },
     "execution_count": 22,
     "metadata": {},
     "output_type": "execute_result"
    }
   ],
   "source": [
    "sorted_df"
   ]
  },
  {
   "cell_type": "code",
   "execution_count": 23,
   "id": "78ab65e4",
   "metadata": {},
   "outputs": [
    {
     "data": {
      "text/plain": [
       "Text(0.5, 1.0, 'Opening Prices by Dates')"
      ]
     },
     "execution_count": 23,
     "metadata": {},
     "output_type": "execute_result"
    },
    {
     "data": {
      "image/png": "[encoded data removed]",
      "text/plain": [
       "<Figure size 720x432 with 1 Axes>"
      ]
     },
     "metadata": {},
     "output_type": "display_data"
    }
   ],
   "source": [
    "plt.figure(figsize=(10,6))\n",
    "sns.barplot(x=sorted_df[\"date\"],y=sorted_df[\"Open\"])\n",
    "plt.title(\"Opening Prices by Dates\")\n"
   ]
  },
  {
   "cell_type": "markdown",
   "id": "9c4d81b1",
   "metadata": {},
   "source": [
    "# Open Prices by month"
   ]
  },
  {
   "cell_type": "code",
   "execution_count": 24,
   "id": "25f253d9",
   "metadata": {},
   "outputs": [],
   "source": [
    "sorted_df=df.sort_values(by=\"month_num\")"
   ]
  },
  {
   "cell_type": "code",
   "execution_count": 25,
   "id": "c9c851e9",
   "metadata": {},
   "outputs": [
    {
     "data": {
      "text/html": [
       "<div>\n",
       "<style scoped>\n",
       "    .dataframe tbody tr th:only-of-type {\n",
       "        vertical-align: middle;\n",
       "    }\n",
       "\n",
       "    .dataframe tbody tr th {\n",
       "        vertical-align: top;\n",
       "    }\n",
       "\n",
       "    .dataframe thead th {\n",
       "        text-align: right;\n",
       "    }\n",
       "</style>\n",
       "<table border=\"1\" class=\"dataframe\">\n",
       "  <thead>\n",
       "    <tr style=\"text-align: right;\">\n",
       "      <th></th>\n",
       "      <th>Date</th>\n",
       "      <th>Open</th>\n",
       "      <th>High</th>\n",
       "      <th>Low</th>\n",
       "      <th>Close</th>\n",
       "      <th>Adj Close</th>\n",
       "      <th>Volume</th>\n",
       "      <th>Year</th>\n",
       "      <th>date</th>\n",
       "      <th>month_num</th>\n",
       "      <th>month_name</th>\n",
       "    </tr>\n",
       "  </thead>\n",
       "  <tbody>\n",
       "    <tr>\n",
       "      <th>0</th>\n",
       "      <td>1996-01-01</td>\n",
       "      <td>11.172855</td>\n",
       "      <td>11.214964</td>\n",
       "      <td>11.035300</td>\n",
       "      <td>11.186892</td>\n",
       "      <td>2.568285</td>\n",
       "      <td>10242229.0</td>\n",
       "      <td>1996</td>\n",
       "      <td>1</td>\n",
       "      <td>1</td>\n",
       "      <td>January</td>\n",
       "    </tr>\n",
       "    <tr>\n",
       "      <th>4823</th>\n",
       "      <td>2015-01-01</td>\n",
       "      <td>37.833172</td>\n",
       "      <td>38.681107</td>\n",
       "      <td>37.833172</td>\n",
       "      <td>38.533432</td>\n",
       "      <td>14.594913</td>\n",
       "      <td>26570816.0</td>\n",
       "      <td>2015</td>\n",
       "      <td>1</td>\n",
       "      <td>1</td>\n",
       "      <td>January</td>\n",
       "    </tr>\n",
       "    <tr>\n",
       "      <th>4600</th>\n",
       "      <td>2014-01-31</td>\n",
       "      <td>33.193344</td>\n",
       "      <td>34.098446</td>\n",
       "      <td>33.112362</td>\n",
       "      <td>33.922188</td>\n",
       "      <td>12.592364</td>\n",
       "      <td>54543855.0</td>\n",
       "      <td>2014</td>\n",
       "      <td>31</td>\n",
       "      <td>1</td>\n",
       "      <td>January</td>\n",
       "    </tr>\n",
       "    <tr>\n",
       "      <th>4599</th>\n",
       "      <td>2014-01-30</td>\n",
       "      <td>33.631603</td>\n",
       "      <td>33.726875</td>\n",
       "      <td>32.507374</td>\n",
       "      <td>33.017090</td>\n",
       "      <td>12.256379</td>\n",
       "      <td>58965717.0</td>\n",
       "      <td>2014</td>\n",
       "      <td>30</td>\n",
       "      <td>1</td>\n",
       "      <td>January</td>\n",
       "    </tr>\n",
       "    <tr>\n",
       "      <th>4598</th>\n",
       "      <td>2014-01-29</td>\n",
       "      <td>35.108345</td>\n",
       "      <td>35.189327</td>\n",
       "      <td>33.941242</td>\n",
       "      <td>34.107971</td>\n",
       "      <td>12.661330</td>\n",
       "      <td>47641329.0</td>\n",
       "      <td>2014</td>\n",
       "      <td>29</td>\n",
       "      <td>1</td>\n",
       "      <td>January</td>\n",
       "    </tr>\n",
       "    <tr>\n",
       "      <th>...</th>\n",
       "      <td>...</td>\n",
       "      <td>...</td>\n",
       "      <td>...</td>\n",
       "      <td>...</td>\n",
       "      <td>...</td>\n",
       "      <td>...</td>\n",
       "      <td>...</td>\n",
       "      <td>...</td>\n",
       "      <td>...</td>\n",
       "      <td>...</td>\n",
       "      <td>...</td>\n",
       "    </tr>\n",
       "    <tr>\n",
       "      <th>5798</th>\n",
       "      <td>2018-12-13</td>\n",
       "      <td>52.805000</td>\n",
       "      <td>52.805000</td>\n",
       "      <td>50.799999</td>\n",
       "      <td>51.224998</td>\n",
       "      <td>21.156118</td>\n",
       "      <td>68100950.0</td>\n",
       "      <td>2018</td>\n",
       "      <td>13</td>\n",
       "      <td>12</td>\n",
       "      <td>December</td>\n",
       "    </tr>\n",
       "    <tr>\n",
       "      <th>5799</th>\n",
       "      <td>2018-12-14</td>\n",
       "      <td>51.099998</td>\n",
       "      <td>51.779999</td>\n",
       "      <td>50.650002</td>\n",
       "      <td>51.355000</td>\n",
       "      <td>21.209812</td>\n",
       "      <td>51559800.0</td>\n",
       "      <td>2018</td>\n",
       "      <td>14</td>\n",
       "      <td>12</td>\n",
       "      <td>December</td>\n",
       "    </tr>\n",
       "    <tr>\n",
       "      <th>5800</th>\n",
       "      <td>2018-12-17</td>\n",
       "      <td>51.799999</td>\n",
       "      <td>52.525002</td>\n",
       "      <td>51.639999</td>\n",
       "      <td>52.400002</td>\n",
       "      <td>21.641399</td>\n",
       "      <td>48048540.0</td>\n",
       "      <td>2018</td>\n",
       "      <td>17</td>\n",
       "      <td>12</td>\n",
       "      <td>December</td>\n",
       "    </tr>\n",
       "    <tr>\n",
       "      <th>5802</th>\n",
       "      <td>2018-12-19</td>\n",
       "      <td>52.790001</td>\n",
       "      <td>53.244999</td>\n",
       "      <td>52.459999</td>\n",
       "      <td>52.740002</td>\n",
       "      <td>21.781820</td>\n",
       "      <td>49280430.0</td>\n",
       "      <td>2018</td>\n",
       "      <td>19</td>\n",
       "      <td>12</td>\n",
       "      <td>December</td>\n",
       "    </tr>\n",
       "    <tr>\n",
       "      <th>2086</th>\n",
       "      <td>2003-12-30</td>\n",
       "      <td>24.816092</td>\n",
       "      <td>24.973297</td>\n",
       "      <td>23.861626</td>\n",
       "      <td>24.181652</td>\n",
       "      <td>6.749399</td>\n",
       "      <td>120531063.0</td>\n",
       "      <td>2003</td>\n",
       "      <td>30</td>\n",
       "      <td>12</td>\n",
       "      <td>December</td>\n",
       "    </tr>\n",
       "  </tbody>\n",
       "</table>\n",
       "<p>6864 rows × 11 columns</p>\n",
       "</div>"
      ],
      "text/plain": [
       "           Date       Open       High        Low      Close  Adj Close  \\\n",
       "0    1996-01-01  11.172855  11.214964  11.035300  11.186892   2.568285   \n",
       "4823 2015-01-01  37.833172  38.681107  37.833172  38.533432  14.594913   \n",
       "4600 2014-01-31  33.193344  34.098446  33.112362  33.922188  12.592364   \n",
       "4599 2014-01-30  33.631603  33.726875  32.507374  33.017090  12.256379   \n",
       "4598 2014-01-29  35.108345  35.189327  33.941242  34.107971  12.661330   \n",
       "...         ...        ...        ...        ...        ...        ...   \n",
       "5798 2018-12-13  52.805000  52.805000  50.799999  51.224998  21.156118   \n",
       "5799 2018-12-14  51.099998  51.779999  50.650002  51.355000  21.209812   \n",
       "5800 2018-12-17  51.799999  52.525002  51.639999  52.400002  21.641399   \n",
       "5802 2018-12-19  52.790001  53.244999  52.459999  52.740002  21.781820   \n",
       "2086 2003-12-30  24.816092  24.973297  23.861626  24.181652   6.749399   \n",
       "\n",
       "           Volume  Year  date  month_num month_name  \n",
       "0      10242229.0  1996     1          1    January  \n",
       "4823   26570816.0  2015     1          1    January  \n",
       "4600   54543855.0  2014    31          1    January  \n",
       "4599   58965717.0  2014    30          1    January  \n",
       "4598   47641329.0  2014    29          1    January  \n",
       "...           ...   ...   ...        ...        ...  \n",
       "5798   68100950.0  2018    13         12   December  \n",
       "5799   51559800.0  2018    14         12   December  \n",
       "5800   48048540.0  2018    17         12   December  \n",
       "5802   49280430.0  2018    19         12   December  \n",
       "2086  120531063.0  2003    30         12   December  \n",
       "\n",
       "[6864 rows x 11 columns]"
      ]
     },
     "execution_count": 25,
     "metadata": {},
     "output_type": "execute_result"
    }
   ],
   "source": [
    "sorted_df"
   ]
  },
  {
   "cell_type": "code",
   "execution_count": 26,
   "id": "82ff203f",
   "metadata": {},
   "outputs": [
    {
     "data": {
      "text/plain": [
       "Text(0.5, 1.0, 'Opening Prices by Months')"
      ]
     },
     "execution_count": 26,
     "metadata": {},
     "output_type": "execute_result"
    },
    {
     "data": {
      "image/png": "[encoded data removed]",
      "text/plain": [
       "<Figure size 936x432 with 1 Axes>"
      ]
     },
     "metadata": {},
     "output_type": "display_data"
    }
   ],
   "source": [
    "plt.figure(figsize=(13,6))\n",
    "sns.barplot(x=sorted_df[\"month_num\"],y=sorted_df[\"Open\"])\n",
    "plt.title(\"Opening Prices by Months\")"
   ]
  },
  {
   "cell_type": "markdown",
   "id": "0e70be66",
   "metadata": {},
   "source": [
    "We dont find such relationship between them"
   ]
  },
  {
   "cell_type": "markdown",
   "id": "a85ec171",
   "metadata": {},
   "source": [
    "# Coreleation of features"
   ]
  },
  {
   "cell_type": "code",
   "execution_count": 28,
   "id": "f0a837ff",
   "metadata": {},
   "outputs": [
    {
     "data": {
      "text/plain": [
       "<AxesSubplot:>"
      ]
     },
     "execution_count": 28,
     "metadata": {},
     "output_type": "execute_result"
    },
    {
     "data": {
      "image/png": "[encoded data removed]",
      "text/plain": [
       "<Figure size 720x432 with 2 Axes>"
      ]
     },
     "metadata": {},
     "output_type": "display_data"
    }
   ],
   "source": [
    " plt.figure(figsize=(10,6))\n",
    "sns.heatmap(df.corr(),annot=True)"
   ]
  },
  {
   "cell_type": "markdown",
   "id": "6fcc4bbb",
   "metadata": {},
   "source": [
    "# Observations:"
   ]
  },
  {
   "cell_type": "markdown",
   "id": "2b090a7a",
   "metadata": {},
   "source": [
    "1.High, Low, Close were very similar to Open. so we can drop them\n",
    "2.As it will be difficult to predict Adj close and also Volume by the user, its better to remove those also\n",
    "3.As we cant use DateTime directly in ML training, remove Date also"
   ]
  },
  {
   "cell_type": "code",
   "execution_count": 29,
   "id": "ca68e5f9",
   "metadata": {},
   "outputs": [],
   "source": [
    "df.drop([\"High\",\"Low\",\"Close\",\"Adj Close\",\"Volume\",\"Date\"],axis=1,inplace=True)"
   ]
  },
  {
   "cell_type": "code",
   "execution_count": 30,
   "id": "cedaa076",
   "metadata": {},
   "outputs": [],
   "source": [
    "df=df.sample(frac=1)"
   ]
  },
  {
   "cell_type": "code",
   "execution_count": 31,
   "id": "9ec1e77e",
   "metadata": {},
   "outputs": [
    {
     "data": {
      "text/html": [
       "<div>\n",
       "<style scoped>\n",
       "    .dataframe tbody tr th:only-of-type {\n",
       "        vertical-align: middle;\n",
       "    }\n",
       "\n",
       "    .dataframe tbody tr th {\n",
       "        vertical-align: top;\n",
       "    }\n",
       "\n",
       "    .dataframe thead th {\n",
       "        text-align: right;\n",
       "    }\n",
       "</style>\n",
       "<table border=\"1\" class=\"dataframe\">\n",
       "  <thead>\n",
       "    <tr style=\"text-align: right;\">\n",
       "      <th></th>\n",
       "      <th>Open</th>\n",
       "      <th>Year</th>\n",
       "      <th>date</th>\n",
       "      <th>month_num</th>\n",
       "      <th>month_name</th>\n",
       "    </tr>\n",
       "  </thead>\n",
       "  <tbody>\n",
       "    <tr>\n",
       "      <th>2308</th>\n",
       "      <td>25.265251</td>\n",
       "      <td>2004</td>\n",
       "      <td>4</td>\n",
       "      <td>11</td>\n",
       "      <td>November</td>\n",
       "    </tr>\n",
       "    <tr>\n",
       "      <th>3161</th>\n",
       "      <td>63.452259</td>\n",
       "      <td>2008</td>\n",
       "      <td>7</td>\n",
       "      <td>4</td>\n",
       "      <td>April</td>\n",
       "    </tr>\n",
       "    <tr>\n",
       "      <th>2943</th>\n",
       "      <td>46.713764</td>\n",
       "      <td>2007</td>\n",
       "      <td>25</td>\n",
       "      <td>5</td>\n",
       "      <td>May</td>\n",
       "    </tr>\n",
       "    <tr>\n",
       "      <th>3128</th>\n",
       "      <td>72.884354</td>\n",
       "      <td>2008</td>\n",
       "      <td>15</td>\n",
       "      <td>2</td>\n",
       "      <td>February</td>\n",
       "    </tr>\n",
       "    <tr>\n",
       "      <th>2307</th>\n",
       "      <td>24.759947</td>\n",
       "      <td>2004</td>\n",
       "      <td>3</td>\n",
       "      <td>11</td>\n",
       "      <td>November</td>\n",
       "    </tr>\n",
       "    <tr>\n",
       "      <th>...</th>\n",
       "      <td>...</td>\n",
       "      <td>...</td>\n",
       "      <td>...</td>\n",
       "      <td>...</td>\n",
       "      <td>...</td>\n",
       "    </tr>\n",
       "    <tr>\n",
       "      <th>3473</th>\n",
       "      <td>36.870907</td>\n",
       "      <td>2009</td>\n",
       "      <td>21</td>\n",
       "      <td>7</td>\n",
       "      <td>July</td>\n",
       "    </tr>\n",
       "    <tr>\n",
       "      <th>695</th>\n",
       "      <td>5.159725</td>\n",
       "      <td>1998</td>\n",
       "      <td>31</td>\n",
       "      <td>8</td>\n",
       "      <td>August</td>\n",
       "    </tr>\n",
       "    <tr>\n",
       "      <th>5142</th>\n",
       "      <td>34.184189</td>\n",
       "      <td>2016</td>\n",
       "      <td>21</td>\n",
       "      <td>4</td>\n",
       "      <td>April</td>\n",
       "    </tr>\n",
       "    <tr>\n",
       "      <th>608</th>\n",
       "      <td>8.528426</td>\n",
       "      <td>1998</td>\n",
       "      <td>30</td>\n",
       "      <td>4</td>\n",
       "      <td>April</td>\n",
       "    </tr>\n",
       "    <tr>\n",
       "      <th>651</th>\n",
       "      <td>7.130415</td>\n",
       "      <td>1998</td>\n",
       "      <td>30</td>\n",
       "      <td>6</td>\n",
       "      <td>June</td>\n",
       "    </tr>\n",
       "  </tbody>\n",
       "</table>\n",
       "<p>6864 rows × 5 columns</p>\n",
       "</div>"
      ],
      "text/plain": [
       "           Open  Year  date  month_num month_name\n",
       "2308  25.265251  2004     4         11   November\n",
       "3161  63.452259  2008     7          4      April\n",
       "2943  46.713764  2007    25          5        May\n",
       "3128  72.884354  2008    15          2   February\n",
       "2307  24.759947  2004     3         11   November\n",
       "...         ...   ...   ...        ...        ...\n",
       "3473  36.870907  2009    21          7       July\n",
       "695    5.159725  1998    31          8     August\n",
       "5142  34.184189  2016    21          4      April\n",
       "608    8.528426  1998    30          4      April\n",
       "651    7.130415  1998    30          6       June\n",
       "\n",
       "[6864 rows x 5 columns]"
      ]
     },
     "execution_count": 31,
     "metadata": {},
     "output_type": "execute_result"
    }
   ],
   "source": [
    "df"
   ]
  },
  {
   "cell_type": "markdown",
   "id": "f129efec",
   "metadata": {},
   "source": [
    "# Divide and Split data for model building"
   ]
  },
  {
   "cell_type": "code",
   "execution_count": 32,
   "id": "d8a62848",
   "metadata": {},
   "outputs": [],
   "source": [
    "x=df.drop([\"Open\",\"month_name\"],axis=1)"
   ]
  },
  {
   "cell_type": "code",
   "execution_count": 33,
   "id": "5e452ca1",
   "metadata": {},
   "outputs": [],
   "source": [
    "y=df[\"Open\"]"
   ]
  },
  {
   "cell_type": "code",
   "execution_count": 44,
   "id": "50364c71",
   "metadata": {},
   "outputs": [],
   "source": [
    "x_train,x_test,y_train,y_test=train_test_split(x,y,test_size=25,random_state=25)"
   ]
  },
  {
   "cell_type": "markdown",
   "id": "76cc1a80",
   "metadata": {},
   "source": [
    "# Model 1 "
   ]
  },
  {
   "cell_type": "code",
   "execution_count": 45,
   "id": "7080d036",
   "metadata": {},
   "outputs": [],
   "source": [
    "model1=AdaBoostRegressor()\n",
    "model1.fit(x_train,y_train)\n",
    "y_pred=model1.predict(x_test)"
   ]
  },
  {
   "cell_type": "code",
   "execution_count": 47,
   "id": "a5a93282",
   "metadata": {},
   "outputs": [
    {
     "data": {
      "text/plain": [
       "0.8543883623656296"
      ]
     },
     "execution_count": 47,
     "metadata": {},
     "output_type": "execute_result"
    }
   ],
   "source": [
    "r2_score(y_test,y_pred)"
   ]
  },
  {
   "cell_type": "markdown",
   "id": "61d5a33f",
   "metadata": {},
   "source": [
    "# Model 2"
   ]
  },
  {
   "cell_type": "code",
   "execution_count": 48,
   "id": "91ad7621",
   "metadata": {},
   "outputs": [
    {
     "data": {
      "text/plain": [
       "0.9755833759567898"
      ]
     },
     "execution_count": 48,
     "metadata": {},
     "output_type": "execute_result"
    }
   ],
   "source": [
    "model2=GradientBoostingRegressor()\n",
    "model2.fit(x_train,y_train)\n",
    "y_pred=model2.predict(x_test)\n",
    "r2_score(y_test,y_pred)"
   ]
  },
  {
   "cell_type": "code",
   "execution_count": 51,
   "id": "aa104e6f",
   "metadata": {},
   "outputs": [
    {
     "data": {
      "text/plain": [
       "4.176198151281215"
      ]
     },
     "execution_count": 51,
     "metadata": {},
     "output_type": "execute_result"
    }
   ],
   "source": [
    "mean_absolute_error(y_test,y_pred)"
   ]
  },
  {
   "cell_type": "code",
   "execution_count": 52,
   "id": "038029ed",
   "metadata": {},
   "outputs": [
    {
     "data": {
      "text/plain": [
       "0.18247238741108376"
      ]
     },
     "execution_count": 52,
     "metadata": {},
     "output_type": "execute_result"
    }
   ],
   "source": [
    "mean_absolute_percentage_error(y_test,y_pred)"
   ]
  }
 ],
 "metadata": {
  "kernelspec": {
   "display_name": "Python 3 (ipykernel)",
   "language": "python",
   "name": "python3"
  },
  "language_info": {
   "codemirror_mode": {
    "name": "ipython",
    "version": 3
   },
   "file_extension": ".py",
   "mimetype": "text/x-python",
   "name": "python",
   "nbconvert_exporter": "python",
   "pygments_lexer": "ipython3",
   "version": "3.9.7"
  }
 },
 "nbformat": 4,
 "nbformat_minor": 5
}
